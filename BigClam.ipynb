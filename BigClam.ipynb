{
  "nbformat": 4,
  "nbformat_minor": 0,
  "metadata": {
    "colab": {
      "name": "BigClam.ipynb",
      "provenance": [],
      "collapsed_sections": []
    },
    "kernelspec": {
      "display_name": "Python 3",
      "language": "python",
      "name": "python3"
    },
    "language_info": {
      "codemirror_mode": {
        "name": "ipython",
        "version": 3
      },
      "file_extension": ".py",
      "mimetype": "text/x-python",
      "name": "python",
      "nbconvert_exporter": "python",
      "pygments_lexer": "ipython3",
      "version": "3.8.3"
    }
  },
  "cells": [
    {
      "cell_type": "markdown",
      "metadata": {
        "id": "KTadYLtNjJ35"
      },
      "source": [
        "#BigClam for community detection\n"
      ]
    },
    {
      "cell_type": "code",
      "metadata": {
        "id": "P7tyjFqFjg_6",
        "colab": {
          "base_uri": "https://localhost:8080/"
        },
        "outputId": "9a51818a-741a-4ac7-fba1-a1bb1a32351c"
      },
      "source": [
        "from google.colab import drive\n",
        "drive.mount('/content/drive')"
      ],
      "execution_count": null,
      "outputs": [
        {
          "output_type": "stream",
          "text": [
            "Drive already mounted at /content/drive; to attempt to forcibly remount, call drive.mount(\"/content/drive\", force_remount=True).\n"
          ],
          "name": "stdout"
        }
      ]
    },
    {
      "cell_type": "code",
      "metadata": {
        "id": "gqIDzmcV_isd"
      },
      "source": [
        "# importing relevent packages\n",
        "import os\n",
        "import shutil\n",
        "import sys\n",
        "from operator import add\n",
        "import itertools\n",
        "import numpy as np\n",
        "import networkx as nx\n",
        "import collections\n",
        "import random\n",
        "from sklearn.metrics import recall_score, precision_score\n",
        "import time as time\n",
        "import matplotlib.pyplot as plt \n",
        "import matplotlib.ticker as ticker\n",
        "\n",
        "font = {'size'   : 14}    \n",
        "plt.rc('font', **font)\n",
        "\n",
        "import matplotlib as mpl\n"
      ],
      "execution_count": null,
      "outputs": []
    },
    {
      "cell_type": "code",
      "metadata": {
        "colab": {
          "base_uri": "https://localhost:8080/"
        },
        "id": "c7aNmJCYuscs",
        "outputId": "6191a5d5-bb6d-4940-8e47-2fe5ff61dd63"
      },
      "source": [
        "path_graph = \"/content/drive/MyDrive/Project-5/YouTube.edgelist\"\n",
        "\n",
        "G = nx.read_edgelist(path_graph, create_using= nx.Graph())\n",
        "\n",
        "# Print the number of nodes and edges in the graph here (1 Point)\n",
        "print(\"The total number of nodes in the graph is: \" + str(len(G)))\n",
        "print(\"The total number of edges in the graph is: \" + str(G.number_of_edges()))\n",
        "\n",
        "n = len(G)\n",
        "c = 29"
      ],
      "execution_count": null,
      "outputs": [
        {
          "output_type": "stream",
          "text": [
            "The total number of nodes in the graph is: 7675\n",
            "The total number of edges in the graph is: 35622\n"
          ],
          "name": "stdout"
        }
      ]
    },
    {
      "cell_type": "code",
      "metadata": {
        "colab": {
          "base_uri": "https://localhost:8080/"
        },
        "id": "2bCpRM4blGT3",
        "outputId": "2b76f7a4-77b7-4e04-8ca7-284e248d441c"
      },
      "source": [
        "#computing intital F matrix for 20percent_seed_communities\n",
        "\n",
        "given_list = []\n",
        "\n",
        "given_data = open('/content/drive/MyDrive/Project-5/20percent_seed_communities.txt', 'r') \n",
        "  \n",
        "count = 0\n",
        "for line in given_data:\n",
        "  nodes = line.strip().split(\" \")\n",
        "  given_list.append(np.array([int(i) for i in nodes]))\n",
        "  count = count + 1\n",
        "\n",
        "given_data.close()\n",
        "print(len(given_list))\n",
        "F_20 = np.zeros((n,c))\n",
        "community_id = 0\n",
        "\n",
        "# assign Fuc = 1 for given communities\n",
        "for community in given_list:\n",
        "  for node in community:\n",
        "    F_20[node,community_id] = 1.0\n",
        "  community_id += 1\n",
        "\n",
        "K = np.zeros(c)\n",
        "start = time.time()\n",
        "\n",
        "# iterate ove all nodes and assign the neighours of that node\n",
        "# that is locally minimal to the community\n",
        "for i in range(n):\n",
        "  if i%100 == 0:\n",
        "    print(\"Node: \", i)\n",
        "  for j in range(c):\n",
        "    C = np.copy(given_list[j])\n",
        "    \n",
        "    neighbor_indices = [] \n",
        "    neighbor_indices.append(i)\n",
        "    for k in G.neighbors(str(i)):\n",
        "      C = np.append(C,int(k))\n",
        "      neighbor_indices.append(int(k))\n",
        "    \n",
        "    virtual_community = set([str(k) for k in C])\n",
        "\n",
        "    # compute the condictance after adding a node and ite neighbors to community c\n",
        "    K[j] = nx.conductance(G, virtual_community)\n",
        "\n",
        "  arg_min = np.argmin(K) # locally minimal community \n",
        "\n",
        "  F_20[neighbor_indices,arg_min] = 1.0\n",
        "\n",
        "print(\"Execution time:\", time.time() - start)"
      ],
      "execution_count": null,
      "outputs": [
        {
          "output_type": "stream",
          "text": [
            "29\n",
            "Node:  0\n",
            "Node:  100\n",
            "Node:  200\n",
            "Node:  300\n",
            "Node:  400\n",
            "Node:  500\n",
            "Node:  600\n",
            "Node:  700\n",
            "Node:  800\n",
            "Node:  900\n",
            "Node:  1000\n",
            "Node:  1100\n",
            "Node:  1200\n",
            "Node:  1300\n",
            "Node:  1400\n",
            "Node:  1500\n",
            "Node:  1600\n",
            "Node:  1700\n",
            "Node:  1800\n",
            "Node:  1900\n",
            "Node:  2000\n",
            "Node:  2100\n",
            "Node:  2200\n",
            "Node:  2300\n",
            "Node:  2400\n",
            "Node:  2500\n",
            "Node:  2600\n",
            "Node:  2700\n",
            "Node:  2800\n",
            "Node:  2900\n",
            "Node:  3000\n",
            "Node:  3100\n",
            "Node:  3200\n",
            "Node:  3300\n",
            "Node:  3400\n",
            "Node:  3500\n",
            "Node:  3600\n",
            "Node:  3700\n",
            "Node:  3800\n",
            "Node:  3900\n",
            "Node:  4000\n",
            "Node:  4100\n",
            "Node:  4200\n",
            "Node:  4300\n",
            "Node:  4400\n",
            "Node:  4500\n",
            "Node:  4600\n",
            "Node:  4700\n",
            "Node:  4800\n",
            "Node:  4900\n",
            "Node:  5000\n",
            "Node:  5100\n",
            "Node:  5200\n",
            "Node:  5300\n",
            "Node:  5400\n",
            "Node:  5500\n",
            "Node:  5600\n",
            "Node:  5700\n",
            "Node:  5800\n",
            "Node:  5900\n",
            "Node:  6000\n",
            "Node:  6100\n",
            "Node:  6200\n",
            "Node:  6300\n",
            "Node:  6400\n",
            "Node:  6500\n",
            "Node:  6600\n",
            "Node:  6700\n",
            "Node:  6800\n",
            "Node:  6900\n",
            "Node:  7000\n",
            "Node:  7100\n",
            "Node:  7200\n",
            "Node:  7300\n",
            "Node:  7400\n",
            "Node:  7500\n",
            "Node:  7600\n",
            "Execution time: 1799.5508465766907\n"
          ],
          "name": "stdout"
        }
      ]
    },
    {
      "cell_type": "code",
      "metadata": {
        "colab": {
          "base_uri": "https://localhost:8080/"
        },
        "id": "yBiRBy7flNI7",
        "outputId": "9e6e9a15-087d-4e02-cadb-8559889e5b6a"
      },
      "source": [
        "print(np.sum(F_20))"
      ],
      "execution_count": null,
      "outputs": [
        {
          "output_type": "stream",
          "text": [
            "18666.0\n"
          ],
          "name": "stdout"
        }
      ]
    },
    {
      "cell_type": "code",
      "metadata": {
        "colab": {
          "base_uri": "https://localhost:8080/"
        },
        "id": "plz6VIPWlIOW",
        "outputId": "8eaf8438-911d-4e99-a746-691b8b7ca066"
      },
      "source": [
        "#computing intital F matrix for F_neighborhood_seeds\n",
        "\n",
        "given_list = []\n",
        "\n",
        "given_data = open('/content/drive/MyDrive/Project-5/neighborhood_seeds.txt', 'r') \n",
        "  \n",
        "count = 0\n",
        "for line in given_data:\n",
        "  nodes = line.strip().split(\" \")\n",
        "  given_list.append(np.array([int(i) for i in nodes]))\n",
        "  count = count + 1\n",
        "\n",
        "given_data.close()\n",
        "print(len(given_list))\n",
        "F_n = np.zeros((n,c))\n",
        "community_id = 0\n",
        "\n",
        "# assign Fuc = 1 for given communities\n",
        "for community in given_list:\n",
        "  for node in community:\n",
        "    F_n[node,community_id] = 1.0\n",
        "  community_id += 1\n",
        "\n",
        "K = np.zeros(c)\n",
        "start = time.time()\n",
        "\n",
        "# iterate ove all nodes and assign the neighours of that node\n",
        "# that is locally minimal to the community\n",
        "for i in range(n):\n",
        "  if i%100 == 0:\n",
        "    print(\"Node: \", i)\n",
        "  for j in range(c):\n",
        "    C = np.copy(given_list[j])\n",
        "    \n",
        "    neighbor_indices = [] \n",
        "    neighbor_indices.append(i)\n",
        "    for k in G.neighbors(str(i)):\n",
        "      C = np.append(C,int(k))\n",
        "      neighbor_indices.append(int(k))\n",
        "    \n",
        "    virtual_community = set([str(k) for k in C])\n",
        "\n",
        "    # compute the condictance after adding a node and ite neighbors to community c\n",
        "    K[j] = nx.conductance(G, virtual_community)\n",
        "\n",
        "  arg_min = np.argmin(K) # locally minimal community \n",
        "\n",
        "  F_n[neighbor_indices,arg_min] = 1.0\n",
        "\n",
        "print(\"Execution time:\", time.time() - start)"
      ],
      "execution_count": null,
      "outputs": [
        {
          "output_type": "stream",
          "text": [
            "29\n",
            "Node:  0\n",
            "Node:  100\n",
            "Node:  200\n",
            "Node:  300\n",
            "Node:  400\n",
            "Node:  500\n",
            "Node:  600\n",
            "Node:  700\n",
            "Node:  800\n",
            "Node:  900\n",
            "Node:  1000\n",
            "Node:  1100\n",
            "Node:  1200\n",
            "Node:  1300\n",
            "Node:  1400\n",
            "Node:  1500\n",
            "Node:  1600\n",
            "Node:  1700\n",
            "Node:  1800\n",
            "Node:  1900\n",
            "Node:  2000\n",
            "Node:  2100\n",
            "Node:  2200\n",
            "Node:  2300\n",
            "Node:  2400\n",
            "Node:  2500\n",
            "Node:  2600\n",
            "Node:  2700\n",
            "Node:  2800\n",
            "Node:  2900\n",
            "Node:  3000\n",
            "Node:  3100\n",
            "Node:  3200\n",
            "Node:  3300\n",
            "Node:  3400\n",
            "Node:  3500\n",
            "Node:  3600\n",
            "Node:  3700\n",
            "Node:  3800\n",
            "Node:  3900\n",
            "Node:  4000\n",
            "Node:  4100\n",
            "Node:  4200\n",
            "Node:  4300\n",
            "Node:  4400\n",
            "Node:  4500\n",
            "Node:  4600\n",
            "Node:  4700\n",
            "Node:  4800\n",
            "Node:  4900\n",
            "Node:  5000\n",
            "Node:  5100\n",
            "Node:  5200\n",
            "Node:  5300\n",
            "Node:  5400\n",
            "Node:  5500\n",
            "Node:  5600\n",
            "Node:  5700\n",
            "Node:  5800\n",
            "Node:  5900\n",
            "Node:  6000\n",
            "Node:  6100\n",
            "Node:  6200\n",
            "Node:  6300\n",
            "Node:  6400\n",
            "Node:  6500\n",
            "Node:  6600\n",
            "Node:  6700\n",
            "Node:  6800\n",
            "Node:  6900\n",
            "Node:  7000\n",
            "Node:  7100\n",
            "Node:  7200\n",
            "Node:  7300\n",
            "Node:  7400\n",
            "Node:  7500\n",
            "Node:  7600\n",
            "Execution time: 1705.4624516963959\n"
          ],
          "name": "stdout"
        }
      ]
    },
    {
      "cell_type": "code",
      "metadata": {
        "colab": {
          "base_uri": "https://localhost:8080/"
        },
        "id": "ig-O-QsflTpd",
        "outputId": "b3522952-62c7-4293-ece1-a3ad33c8eb98"
      },
      "source": [
        "print(np.sum(F_n))"
      ],
      "execution_count": null,
      "outputs": [
        {
          "output_type": "stream",
          "text": [
            "14861.0\n"
          ],
          "name": "stdout"
        }
      ]
    },
    {
      "cell_type": "code",
      "metadata": {
        "id": "zw0kD81blWBM"
      },
      "source": [
        "F_random = np.zeros((n,c))\n",
        "\n",
        "for i in range(n):\n",
        "  r1 = random.randint(1,5)\n",
        "  for j in range(r1):\n",
        "    r2 = random.randint(0,28)\n",
        "    F_random[i,r2] = 1.0"
      ],
      "execution_count": null,
      "outputs": []
    },
    {
      "cell_type": "code",
      "metadata": {
        "colab": {
          "base_uri": "https://localhost:8080/"
        },
        "id": "Uu-JLb3nlcNw",
        "outputId": "046b08eb-4e9f-4999-8bde-d2ae3e198593"
      },
      "source": [
        "print(np.sum(F_random))"
      ],
      "execution_count": null,
      "outputs": [
        {
          "output_type": "stream",
          "text": [
            "21996.0\n"
          ],
          "name": "stdout"
        }
      ]
    },
    {
      "cell_type": "code",
      "metadata": {
        "colab": {
          "base_uri": "https://localhost:8080/"
        },
        "id": "U_NxCyHp7VDK",
        "outputId": "10c3475d-bfc7-424c-e761-97a6c6e07ec2"
      },
      "source": [
        "print('Total nodes assigned to the commuities 20 percent seed initilization : ', np.sum(F_20))\n",
        "print('Total nodes assigned to the commuities Neighbor seed initilization : ', np.sum(F_n))\n",
        "print('Total nodes assigned to the commuities Random initilization : ', np.sum(F_random))"
      ],
      "execution_count": null,
      "outputs": [
        {
          "output_type": "stream",
          "text": [
            "Total nodes assigned to the commuities 20 percent seed initilization :  18666.0\n",
            "Total nodes assigned to the commuities Neighbor seed initilization :  14861.0\n",
            "Total nodes assigned to the commuities Random initilization :  21996.0\n"
          ],
          "name": "stdout"
        }
      ]
    },
    {
      "cell_type": "code",
      "metadata": {
        "id": "Vn16wiLn0oSm"
      },
      "source": [
        ""
      ],
      "execution_count": null,
      "outputs": []
    },
    {
      "cell_type": "code",
      "metadata": {
        "id": "tqO8BI_0zY2E"
      },
      "source": [
        "#gradinet computation\n",
        "def gradient_update(G,F,n,c,n_iters,lr):\n",
        "  update_value = np.zeros(n_iters)\n",
        "  \n",
        "  for k in range(n_iters):\n",
        "    # compute the sume of all nodes at the begining\n",
        "    initial_sum = np.sum(F,axis=0)\n",
        "\n",
        "    # iterate for each row of the column F\n",
        "    for i in range(n):\n",
        "      fu = np.copy(F[i,:])\n",
        "      first_term = np.zeros(c)\n",
        "      neighours_sum = np.zeros(c)\n",
        "\n",
        "      # iterate over all neighbors of node u\n",
        "      for j in G.neighbors(str(i)):\n",
        "        int_j = int(j)\n",
        "        fv = np.copy(F[int_j,:])\n",
        "\n",
        "        product = np.sum(fu*fv) # FuFvT\n",
        "\n",
        "        if product == 0:\n",
        "          first_term = first_term + fv*0.0\n",
        "        else:\n",
        "          first_term = first_term + fv*(np.exp(-product)/(1.0 - np.exp(-product)))\n",
        "        neighours_sum = neighours_sum + fv\n",
        "      \n",
        "      second_term = initial_sum - fu - neighours_sum\n",
        "\n",
        "      # gradient computation\n",
        "      gradient = first_term - second_term\n",
        "\n",
        "      # old value of F for ith row\n",
        "      fold = np.copy(F[i,:])\n",
        "\n",
        "      # update ith row of F\n",
        "      F[i,:] = F[i,:] + lr*gradient      \n",
        "      F[i,:] = np.where(F[i,:]<0, 0.00001, F[i,:])\n",
        "\n",
        "      # store the maximum value of change in F amongst all nodes\n",
        "      if np.linalg.norm(fold - F[i,:]) > update_value[k]:\n",
        "        update_value[k] = np.linalg.norm(fold - F[i,:])\n",
        "\n",
        "    if k%50 == 0:\n",
        "      print(\"Loop: \" + str(k))\n",
        "\n",
        "  return F, update_value\n"
      ],
      "execution_count": null,
      "outputs": []
    },
    {
      "cell_type": "code",
      "metadata": {
        "colab": {
          "base_uri": "https://localhost:8080/"
        },
        "id": "7m3DnPXW_LTp",
        "outputId": "f0a28286-9ae1-4b66-e8ee-c08e22bc2b5e"
      },
      "source": [
        "# Note: Here the learning rate has not been used as suggested 0.001 instead 0.0001 has been used\n",
        "# since with 0.001 learning rate the solution was going out of bound after 2nd iteration itself\n",
        "n_iters = 300\n",
        "lr = 0.0001\n",
        "\n",
        "print(\"For 20_percent_seed: \")\n",
        "F_true_seed_optimized, update_value_true_seed = gradient_update(G,F_20,n,c,n_iters,lr)\n",
        "print(\"For neighborhood_seed: \")\n",
        "F_neighbor_seed_optimized, update_value_neighbor_seed = gradient_update(G,F_n,n,c,n_iters,lr)\n",
        "print(\"For random_seed: \")\n",
        "F_random_optimized, update_value_random = gradient_update(G,F_random,n,c,n_iters,lr)"
      ],
      "execution_count": null,
      "outputs": [
        {
          "output_type": "stream",
          "text": [
            "For 20_percent_seed: \n",
            "Loop: 0\n",
            "Loop: 50\n",
            "Loop: 100\n",
            "Loop: 150\n",
            "Loop: 200\n",
            "Loop: 250\n",
            "For neighborhood_seed: \n",
            "Loop: 0\n",
            "Loop: 50\n",
            "Loop: 100\n",
            "Loop: 150\n",
            "Loop: 200\n",
            "Loop: 250\n",
            "For random_seed: \n",
            "Loop: 0\n",
            "Loop: 50\n",
            "Loop: 100\n",
            "Loop: 150\n",
            "Loop: 200\n",
            "Loop: 250\n"
          ],
          "name": "stdout"
        }
      ]
    },
    {
      "cell_type": "code",
      "metadata": {
        "colab": {
          "base_uri": "https://localhost:8080/",
          "height": 289
        },
        "id": "rfSz6zvjAEp7",
        "outputId": "e112238d-4f95-420e-e6d7-6b471d5e70aa"
      },
      "source": [
        "fig, ax = plt.subplots(1,3,figsize=(14,4))\n",
        "\n",
        "axs = ax.flat\n",
        "\n",
        "axs[0].semilogy(update_value_true_seed, lw=2, ms=8, mew=2, fillstyle='none',  label='Iteration update')\n",
        "axs[1].semilogy(update_value_neighbor_seed, lw=2, ms=8, mew=2, fillstyle='none',  label='Iteration update')\n",
        "axs[2].semilogy(update_value_random, lw=2, ms=8, mew=2, fillstyle='none',  label='Iteration update')\n",
        "\n",
        "for i in range(3):\n",
        "  axs[i].set_xlabel('$N$')\n",
        "  if i == 0:\n",
        "    axs[i].set_ylabel('Value at iteration')\n",
        "\n",
        "axs[0].set_title('20 % seed community')\n",
        "axs[1].set_title('Neighborhood seed community')\n",
        "axs[2].set_title('Random community')\n",
        "\n",
        "fig.tight_layout()\n",
        "plt.show()"
      ],
      "execution_count": null,
      "outputs": [
        {
          "output_type": "display_data",
          "data": {
            "image/png": "[encoded data removed]",
            "text/plain": [
              "<Figure size 1008x288 with 3 Axes>"
            ]
          },
          "metadata": {
            "tags": [],
            "needs_background": "light"
          }
        }
      ]
    },
    {
      "cell_type": "code",
      "metadata": {
        "colab": {
          "base_uri": "https://localhost:8080/"
        },
        "id": "kV-FpxUzhC33",
        "outputId": "4b4dacc7-118c-48bf-a8d4-2dacbca8e3a3"
      },
      "source": [
        "eps = 1.0e-8\n",
        "delta = np.sqrt(-np.log(1.0 - eps))\n",
        "print(\"Delta values: \" + str(delta))"
      ],
      "execution_count": null,
      "outputs": [
        {
          "output_type": "stream",
          "text": [
            "Delta values: 0.00010000000050123797\n"
          ],
          "name": "stdout"
        }
      ]
    },
    {
      "cell_type": "code",
      "metadata": {
        "id": "hNLm3G6drUj0"
      },
      "source": [
        "ground_truth_community_array = []\n",
        "\n",
        "# change this path\n",
        "file1 = open('/content/drive/MyDrive/Project-5/groundtruth_communities.txt', 'r') \n",
        "Lines = file1.readlines() \n",
        "  \n",
        "count = 0\n",
        "for line in Lines: \n",
        "    ground_truth_community_array.append(np.array([int(i) for i in line.strip().split(\" \")]))\n",
        "    count = count + 1\n",
        "\n",
        "file1.close()\n",
        "\n",
        "y_true = np.zeros((n,c))\n",
        "counter = 0\n",
        "for community in ground_truth_community_array:\n",
        "  for node in community:\n",
        "    y_true[node, counter] = 1.0\n",
        "  counter = counter + 1"
      ],
      "execution_count": null,
      "outputs": []
    },
    {
      "cell_type": "code",
      "metadata": {
        "id": "mVUSPqrXZ3Go"
      },
      "source": [
        "# data = np.load('/content/drive/MyDrive/Coursework/CS 5683_Big_Data/Project-5/initial_F_all_nodes.npz')\n",
        "# F = data['F']\n",
        "\n",
        "y_pred_true_seed = np.zeros((n,c))\n",
        "y_pred_neighbor_seed = np.zeros((n,c))\n",
        "y_pred_random = np.zeros((n,c))\n",
        "\n",
        "for i in range(n):\n",
        "  pred_community = np.where(F_true_seed_optimized[i,:] > delta)\n",
        "  for j in pred_community[0]:\n",
        "    y_pred_true_seed[i,j] = 1.0\n",
        "\n",
        "  pred_community = np.where(F_n[i,:] > delta)\n",
        "  for j in pred_community[0]:\n",
        "    y_pred_neighbor_seed[i,j] = 1.0\n",
        "  \n",
        "  pred_community = np.where(F_random[i,:] > delta)\n",
        "  for j in pred_community[0]:\n",
        "    y_pred_random[i,j] = 1.0"
      ],
      "execution_count": null,
      "outputs": []
    },
    {
      "cell_type": "code",
      "metadata": {
        "id": "NZyLR9In3TCc"
      },
      "source": [
        "#Storing communities for 20_percent_seeds\n",
        "file_ = open('20_pecent_seed_communities.txt', 'a')\n",
        "\n",
        "all_communities = []\n",
        "for i in range (c):\n",
        "  nodes_in_community = []\n",
        "  for j in range (n):\n",
        "    if y_pred_true_seed[j][i] == 1.0:\n",
        "      nodes_in_community.append(j)\n",
        "  all_communities.append(nodes_in_community)\n",
        "  s = str(nodes_in_community) + \"\\n\"\n",
        "  file_.write(s)\n",
        "\n",
        "file_.close()"
      ],
      "execution_count": null,
      "outputs": []
    },
    {
      "cell_type": "code",
      "metadata": {
        "id": "cj47JHGP32bS"
      },
      "source": [
        "#Storing communities for Neighborhood_seeds\n",
        "file_ = open('Neighborhood_seed_communities.txt', 'a')\n",
        "\n",
        "for i in range (c):\n",
        "  nodes_in_community = []\n",
        "  for j in range (n):\n",
        "    if y_pred_neighbor_seed[j][i] == 1.0:\n",
        "      nodes_in_community.append(j)\n",
        "  s = str(nodes_in_community) + \"\\n\"\n",
        "  file_.write(s)\n",
        "\n",
        "file_.close()"
      ],
      "execution_count": null,
      "outputs": []
    },
    {
      "cell_type": "code",
      "metadata": {
        "id": "6uwSrnPs3120"
      },
      "source": [
        "#Storing communities for Random_seeds\n",
        "file_ = open('Random_seed_communities.txt', 'a')\n",
        "\n",
        "for i in range (c):\n",
        "  nodes_in_community = []\n",
        "  for j in range (n):\n",
        "    if y_pred_random[j][i] == 1.0:\n",
        "      nodes_in_community.append(j)\n",
        "  s = str(nodes_in_community) + \"\\n\"\n",
        "  file_.write(s)\n",
        "\n",
        "file_.close()"
      ],
      "execution_count": null,
      "outputs": []
    },
    {
      "cell_type": "code",
      "metadata": {
        "colab": {
          "base_uri": "https://localhost:8080/"
        },
        "id": "E3zVb-KSZ5-Y",
        "outputId": "31f09412-84dc-4d59-ddc0-c4bc91bed83f"
      },
      "source": [
        "#Computing recall, precision and f1 score for all initialization methods\n",
        "recall_true_seed = 0.0\n",
        "recall_neighbor_seed = 0.0\n",
        "recall_random = 0.0\n",
        "\n",
        "precision_true_seed = 0.0\n",
        "precision_neighbor_seed = 0.0\n",
        "precision_random = 0.0\n",
        "\n",
        "f_true_seed = 0.0\n",
        "f_neighbor_seed = 0.0\n",
        "f_random_seed = 0.0\n",
        "\n",
        "for j in range(c):\n",
        "  array = np.zeros(c)\n",
        "  for i in range(c):\n",
        "    rc = recall_score(y_true[:,j], y_pred_true_seed[:,i])\n",
        "    array[i] = rc\n",
        "  \n",
        "  visited = set()\n",
        "  arg_max = np.argmax(array)\n",
        "  while arg_max in visited:\n",
        "    array[arg_max] = -1\n",
        "    arg_max = np.argmax(array)\n",
        "  \n",
        "  visited.add(arg_max)\n",
        "  recall_true_seed += recall_score(y_true[:,j], y_pred_true_seed[:,arg_max])\n",
        "  precision_true_seed += precision_score(y_true[:,j], y_pred_true_seed[:,arg_max])\n",
        "  \n",
        "  array = np.zeros(c)\n",
        "  for i in range(c):\n",
        "    rc = recall_score(y_true[:,j], y_pred_neighbor_seed[:,i])\n",
        "    array[i] = rc\n",
        "  \n",
        "  visited = set()\n",
        "  arg_max = np.argmax(array)\n",
        "  while arg_max in visited:\n",
        "    array[arg_max] = -1\n",
        "    arg_max = np.argmax(array)\n",
        "  \n",
        "  visited.add(arg_max)\n",
        "  recall_neighbor_seed += recall_score(y_true[:,j], y_pred_neighbor_seed[:,arg_max])\n",
        "  precision_neighbor_seed += precision_score(y_true[:,j], y_pred_neighbor_seed[:,arg_max])\n",
        "\n",
        "  array = np.zeros(c)\n",
        "  for i in range(c):\n",
        "    rc = recall_score(y_true[:,j], y_pred_random[:,i])\n",
        "    array[i] = rc\n",
        "  \n",
        "  visited = set()\n",
        "  arg_max = np.argmax(array)\n",
        "  while arg_max in visited:\n",
        "    array[arg_max] = -1\n",
        "    arg_max = np.argmax(array)\n",
        "  \n",
        "  visited.add(arg_max)\n",
        "  recall_random += recall_score(y_true[:,j], y_pred_random[:,arg_max])\n",
        "  precision_random += precision_score(y_true[:,j], y_pred_random[:,arg_max])\n",
        "\n",
        "recall_true_seed = recall_true_seed/c\n",
        "recall_neighbor_seed = recall_neighbor_seed/c\n",
        "recall_random = recall_random/c\n",
        "\n",
        "precision_true_seed /= c\n",
        "precision_neighbor_seed /= c\n",
        "precision_random /= c\n",
        "\n",
        "f_true_seed = 2*(precision_true_seed*recall_true_seed)/(precision_true_seed+recall_true_seed)\n",
        "f_neighbor_seed = 2*(precision_neighbor_seed*recall_neighbor_seed)/(precision_neighbor_seed+recall_neighbor_seed)\n",
        "f_random_seed = 2*(precision_random*recall_random)/(precision_random+recall_random)\n",
        "\n",
        "print('20 % seed community recall: ', np.round(recall_true_seed, 4))\n",
        "print('Neighborhood seed community recall: ', np.round(recall_neighbor_seed, 4))\n",
        "print('Random community recall: ', np.round(recall_random, 4))\n",
        "\n",
        "print(\"\\n\")\n",
        "\n",
        "print('20 % seed community precision: ', np.round(precision_true_seed, 4))\n",
        "print('Neighborhood seed community precision: ', np.round(precision_neighbor_seed, 4))\n",
        "print('Random community precision: ', np.round(precision_random, 4))\n",
        "\n",
        "print(\"\\n\")\n",
        "\n",
        "print('20 % seed community f1: ', np.round(f_true_seed, 4))\n",
        "print('Neighborhood seed community f1: ', np.round(f_neighbor_seed, 4))\n",
        "print('Random community f1:', np.round(f_random_seed, 4))"
      ],
      "execution_count": null,
      "outputs": [
        {
          "output_type": "stream",
          "text": [
            "20 % seed community recall:  0.8669\n",
            "Neighborhood seed community recall:  0.6869\n",
            "Random community recall:  0.7079\n",
            "\n",
            "\n",
            "20 % seed community precision:  0.3553\n",
            "Neighborhood seed community precision:  0.1632\n",
            "Random community precision:  0.1367\n",
            "\n",
            "\n",
            "20 % seed community f1:  0.5041\n",
            "Neighborhood seed community f1:  0.2638\n",
            "Random community f1: 0.2291\n"
          ],
          "name": "stdout"
        }
      ]
    },
    {
      "cell_type": "code",
      "metadata": {
        "colab": {
          "base_uri": "https://localhost:8080/",
          "height": 307
        },
        "id": "doybde7WNeqp",
        "outputId": "e100212a-27ac-4935-db97-be85654b3a60"
      },
      "source": [
        "#Plot for Recall(blue), precision(green) and f1 score(red) for each kind of initialization\n",
        "#The comparison clearly depicts the importance of initializing F matrix at appropirate values\n",
        "#The results are much better when we use 20 percent seed of the ground truth community for the initialization than the other two initialization method\n",
        "\n",
        "import numpy as np\n",
        "import matplotlib.pyplot as plt\n",
        "\n",
        "recalls = [recall_true_seed, recall_neighbor_seed, recall_random]\n",
        "precisions = [precision_true_seed, precision_neighbor_seed, precision_random]\n",
        "fs = [f_true_seed, f_neighbor_seed, f_random_seed]\n",
        "\n",
        "data = [recalls, precisions, fs]\n",
        "\n",
        "plt.xlabel('Initialization')\n",
        "plt.ylabel('Scores')\n",
        "plt.title('Recall, Precision and F1_score')\n",
        "\n",
        "X = np.arange(3)\n",
        "plt.bar(X + 0.00, data[0], color = 'b', width = 0.25)\n",
        "plt.bar(X + 0.25, data[1], color = 'g', width = 0.25)\n",
        "plt.bar(X + 0.50, data[2], color = 'r', width = 0.25)\n",
        "\n",
        "plt.show()"
      ],
      "execution_count": null,
      "outputs": [
        {
          "output_type": "display_data",
          "data": {
            "image/png": "[encoded data removed]",
            "text/plain": [
              "<Figure size 432x288 with 1 Axes>"
            ]
          },
          "metadata": {
            "tags": [],
            "needs_background": "light"
          }
        }
      ]
    },
    {
      "cell_type": "code",
      "metadata": {
        "id": "MOZlbrA7XXQD"
      },
      "source": [
        "import collections\n",
        "\n",
        "nodes_total_communities = collections.defaultdict(int)\n",
        "nodes_communities = collections.defaultdict(int)\n",
        "\n",
        "for li in all_communities:\n",
        "  for item in li:\n",
        "    nodes_total_communities[item] += 1\n",
        "\n",
        "for key, value in nodes_total_communities.items():\n",
        "  nodes_communities[value] += 1\n",
        "\n",
        "x_array = []\n",
        "y_array = []\n",
        "for key, value in nodes_communities.items():\n",
        "  x_array.append(key)\n",
        "  y_array.append(value)"
      ],
      "execution_count": null,
      "outputs": []
    },
    {
      "cell_type": "code",
      "metadata": {
        "colab": {
          "base_uri": "https://localhost:8080/",
          "height": 433
        },
        "id": "KsT-kaX3X6WS",
        "outputId": "3e8aca15-40f7-40e2-d0d2-bf4bcba7df95"
      },
      "source": [
        "names = x\n",
        "values = y\n",
        "\n",
        "x = np.arange(len(names))  # the label locations\n",
        "width = 0.1  # the width of the bars\n",
        "\n",
        "fig, axs = plt.subplots(1, 1, figsize=(8, 6), sharey=True)\n",
        "axs.bar(names, values, width, color='k', alpha=0.8)\n",
        "plt.title('Distribution of number of nodes in multiple cascades')\n",
        "plt.xlabel('Number of cascades')\n",
        "plt.ylabel('Common nodes in the cascades')\n",
        "fig.tight_layout()\n",
        "plt.show()"
      ],
      "execution_count": null,
      "outputs": [
        {
          "output_type": "display_data",
          "data": {
            "image/png": "[encoded data removed]",
            "text/plain": [
              "<Figure size 576x432 with 1 Axes>"
            ]
          },
          "metadata": {
            "tags": [],
            "needs_background": "light"
          }
        }
      ]
    }
  ]
}